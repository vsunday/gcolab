{
  "nbformat": 4,
  "nbformat_minor": 0,
  "metadata": {
    "colab": {
      "name": "comp_11",
      "provenance": [],
      "authorship_tag": "ABX9TyMk3W1Fn9HOzbFBQQYwOYdB",
      "include_colab_link": true
    },
    "kernelspec": {
      "name": "python3",
      "display_name": "Python 3"
    }
  },
  "cells": [
    {
      "cell_type": "markdown",
      "metadata": {
        "id": "view-in-github",
        "colab_type": "text"
      },
      "source": [
        "<a href=\"https://colab.research.google.com/github/vsunday/gcolab/blob/main/comp_11.ipynb\" target=\"_parent\"><img src=\"https://colab.research.google.com/assets/colab-badge.svg\" alt=\"Open In Colab\"/></a>"
      ]
    },
    {
      "cell_type": "code",
      "metadata": {
        "colab": {
          "base_uri": "https://localhost:8080/"
        },
        "id": "UijR08Kw11mU",
        "outputId": "b3f27fa6-4fd4-48f2-c4c0-69135cacf9ae"
      },
      "source": [
        "!pip install signate"
      ],
      "execution_count": 1,
      "outputs": [
        {
          "output_type": "stream",
          "text": [
            "Collecting signate\n",
            "  Downloading https://files.pythonhosted.org/packages/d0/43/24cc5d7fa9cc6f6e6b41fca021b631fcb51f0fc56ff1bd29bfe5ce888169/signate-0.9.8-py3-none-any.whl\n",
            "Requirement already satisfied: python-dateutil in /usr/local/lib/python3.7/dist-packages (from signate) (2.8.1)\n",
            "Requirement already satisfied: click in /usr/local/lib/python3.7/dist-packages (from signate) (7.1.2)\n",
            "Requirement already satisfied: tabulate in /usr/local/lib/python3.7/dist-packages (from signate) (0.8.9)\n",
            "Requirement already satisfied: six>=1.10 in /usr/local/lib/python3.7/dist-packages (from signate) (1.15.0)\n",
            "Collecting urllib3>=1.26.4\n",
            "\u001b[?25l  Downloading https://files.pythonhosted.org/packages/0c/cd/1e2ec680ec7b09846dc6e605f5a7709dfb9d7128e51a026e7154e18a234e/urllib3-1.26.5-py2.py3-none-any.whl (138kB)\n",
            "\u001b[K     |████████████████████████████████| 143kB 9.0MB/s \n",
            "\u001b[?25hRequirement already satisfied: certifi in /usr/local/lib/python3.7/dist-packages (from signate) (2021.5.30)\n",
            "Collecting wget\n",
            "  Downloading https://files.pythonhosted.org/packages/47/6a/62e288da7bcda82b935ff0c6cfe542970f04e29c756b0e147251b2fb251f/wget-3.2.zip\n",
            "Building wheels for collected packages: wget\n",
            "  Building wheel for wget (setup.py) ... \u001b[?25l\u001b[?25hdone\n",
            "  Created wheel for wget: filename=wget-3.2-cp37-none-any.whl size=9675 sha256=df377aa1da2b5c7eec7a57528acf6c4a3ee9415111c572aeef4294b619e1a731\n",
            "  Stored in directory: /root/.cache/pip/wheels/40/15/30/7d8f7cea2902b4db79e3fea550d7d7b85ecb27ef992b618f3f\n",
            "Successfully built wget\n",
            "\u001b[31mERROR: requests 2.23.0 has requirement urllib3!=1.25.0,!=1.25.1,<1.26,>=1.21.1, but you'll have urllib3 1.26.5 which is incompatible.\u001b[0m\n",
            "\u001b[31mERROR: datascience 0.10.6 has requirement folium==0.2.1, but you'll have folium 0.8.3 which is incompatible.\u001b[0m\n",
            "Installing collected packages: urllib3, wget, signate\n",
            "  Found existing installation: urllib3 1.24.3\n",
            "    Uninstalling urllib3-1.24.3:\n",
            "      Successfully uninstalled urllib3-1.24.3\n",
            "Successfully installed signate-0.9.8 urllib3-1.26.5 wget-3.2\n"
          ],
          "name": "stdout"
        }
      ]
    },
    {
      "cell_type": "code",
      "metadata": {
        "id": "EIH2G95lDi0p"
      },
      "source": [
        "import os\n",
        "os.environ['COMP_ID'] = '463'"
      ],
      "execution_count": 2,
      "outputs": []
    },
    {
      "cell_type": "code",
      "metadata": {
        "colab": {
          "base_uri": "https://localhost:8080/"
        },
        "id": "PGvPRs70205K",
        "outputId": "21b2880f-bd86-4814-8ecf-8dc1292afe98"
      },
      "source": [
        "from google.colab import drive\n",
        "drive.mount('/content/drive')"
      ],
      "execution_count": 3,
      "outputs": [
        {
          "output_type": "stream",
          "text": [
            "Mounted at /content/drive\n"
          ],
          "name": "stdout"
        }
      ]
    },
    {
      "cell_type": "code",
      "metadata": {
        "colab": {
          "base_uri": "https://localhost:8080/"
        },
        "id": "WKNelkg52o2F",
        "outputId": "8e897d6b-3971-4210-df53-4347112b0483"
      },
      "source": [
        "!mkdir /root/.signate\n",
        "!cp /content/drive/MyDrive/'Colab Notebooks'/signate/signate.json /root/.signate\n",
        "!mkdir /content/signate\n",
        "%cd /content/signate\n",
        "!signate download --competition-id $COMP_ID || ls"
      ],
      "execution_count": 4,
      "outputs": [
        {
          "output_type": "stream",
          "text": [
            "/content/signate\n",
            "sample_submit.csv\n",
            "\n",
            "test.csv\n",
            "\n",
            "train.csv\n",
            "\n",
            "\u001b[32m\n",
            "Download completed.\u001b[0m\n"
          ],
          "name": "stdout"
        }
      ]
    },
    {
      "cell_type": "code",
      "metadata": {
        "id": "q5flXvqwbwJH"
      },
      "source": [
        "import pandas as pd\n",
        "#import xgboost as xgb\n",
        "import numpy as np\n",
        "\n",
        "from sklearn import preprocessing\n",
        "from sklearn.ensemble import RandomForestClassifier\n",
        "import sklearn\n",
        "from sklearn.model_selection import train_test_split, cross_val_score, RepeatedStratifiedKFold"
      ],
      "execution_count": 55,
      "outputs": []
    },
    {
      "cell_type": "code",
      "metadata": {
        "id": "gZqNNowXP2J2"
      },
      "source": [
        "train = pd.read_csv(\"train.csv\")\n",
        "test = pd.read_csv(\"test.csv\")\n",
        "# ss = pd.read_csv('sample_submit.csv')"
      ],
      "execution_count": 23,
      "outputs": []
    },
    {
      "cell_type": "code",
      "metadata": {
        "colab": {
          "base_uri": "https://localhost:8080/",
          "height": 197
        },
        "id": "GWuMpZNTHtow",
        "outputId": "50ef51cb-655e-4473-de60-91b154dd6293"
      },
      "source": [
        "train.head()"
      ],
      "execution_count": 25,
      "outputs": [
        {
          "output_type": "execute_result",
          "data": {
            "text/html": [
              "<div>\n",
              "<style scoped>\n",
              "    .dataframe tbody tr th:only-of-type {\n",
              "        vertical-align: middle;\n",
              "    }\n",
              "\n",
              "    .dataframe tbody tr th {\n",
              "        vertical-align: top;\n",
              "    }\n",
              "\n",
              "    .dataframe thead th {\n",
              "        text-align: right;\n",
              "    }\n",
              "</style>\n",
              "<table border=\"1\" class=\"dataframe\">\n",
              "  <thead>\n",
              "    <tr style=\"text-align: right;\">\n",
              "      <th></th>\n",
              "      <th>id</th>\n",
              "      <th>age</th>\n",
              "      <th>sex</th>\n",
              "      <th>bmi</th>\n",
              "      <th>children</th>\n",
              "      <th>smoker</th>\n",
              "      <th>region</th>\n",
              "      <th>charges</th>\n",
              "    </tr>\n",
              "  </thead>\n",
              "  <tbody>\n",
              "    <tr>\n",
              "      <th>0</th>\n",
              "      <td>0</td>\n",
              "      <td>26</td>\n",
              "      <td>male</td>\n",
              "      <td>32.665465</td>\n",
              "      <td>3</td>\n",
              "      <td>no</td>\n",
              "      <td>southeast</td>\n",
              "      <td>0</td>\n",
              "    </tr>\n",
              "    <tr>\n",
              "      <th>1</th>\n",
              "      <td>1</td>\n",
              "      <td>41</td>\n",
              "      <td>male</td>\n",
              "      <td>29.798725</td>\n",
              "      <td>1</td>\n",
              "      <td>no</td>\n",
              "      <td>southwest</td>\n",
              "      <td>0</td>\n",
              "    </tr>\n",
              "    <tr>\n",
              "      <th>2</th>\n",
              "      <td>2</td>\n",
              "      <td>28</td>\n",
              "      <td>male</td>\n",
              "      <td>32.722029</td>\n",
              "      <td>0</td>\n",
              "      <td>yes</td>\n",
              "      <td>northwest</td>\n",
              "      <td>1</td>\n",
              "    </tr>\n",
              "    <tr>\n",
              "      <th>3</th>\n",
              "      <td>3</td>\n",
              "      <td>20</td>\n",
              "      <td>female</td>\n",
              "      <td>38.429831</td>\n",
              "      <td>2</td>\n",
              "      <td>no</td>\n",
              "      <td>southeast</td>\n",
              "      <td>0</td>\n",
              "    </tr>\n",
              "    <tr>\n",
              "      <th>4</th>\n",
              "      <td>4</td>\n",
              "      <td>45</td>\n",
              "      <td>female</td>\n",
              "      <td>29.641854</td>\n",
              "      <td>1</td>\n",
              "      <td>no</td>\n",
              "      <td>northwest</td>\n",
              "      <td>0</td>\n",
              "    </tr>\n",
              "  </tbody>\n",
              "</table>\n",
              "</div>"
            ],
            "text/plain": [
              "   id  age     sex        bmi  children smoker     region  charges\n",
              "0   0   26    male  32.665465         3     no  southeast        0\n",
              "1   1   41    male  29.798725         1     no  southwest        0\n",
              "2   2   28    male  32.722029         0    yes  northwest        1\n",
              "3   3   20  female  38.429831         2     no  southeast        0\n",
              "4   4   45  female  29.641854         1     no  northwest        0"
            ]
          },
          "metadata": {
            "tags": []
          },
          "execution_count": 25
        }
      ]
    },
    {
      "cell_type": "code",
      "metadata": {
        "colab": {
          "base_uri": "https://localhost:8080/",
          "height": 197
        },
        "id": "mz_Ukr-P4Wbf",
        "outputId": "f6c3c211-a856-4f62-e5a1-51faf4065670"
      },
      "source": [
        "def feature_engineering(data, df):\n",
        "  result = data.copy(deep=True)\n",
        "  # applying mean encoding to categorical features\n",
        "  for c in ['sex', 'children', 'smoker', 'region']:\n",
        "    result[c] = result[c].map(df.groupby(c).mean()['charges'].to_dict())\n",
        "\n",
        "  # normalize numeric features\n",
        "  for c in ['age', 'bmi']:\n",
        "    result[c] = (df[c] - df[c].mean()) / df[c].std()\n",
        "\n",
        "  return result\n",
        "\n",
        "train_engd = feature_engineering(train, train)\n",
        "train_engd.head()"
      ],
      "execution_count": 69,
      "outputs": [
        {
          "output_type": "execute_result",
          "data": {
            "text/html": [
              "<div>\n",
              "<style scoped>\n",
              "    .dataframe tbody tr th:only-of-type {\n",
              "        vertical-align: middle;\n",
              "    }\n",
              "\n",
              "    .dataframe tbody tr th {\n",
              "        vertical-align: top;\n",
              "    }\n",
              "\n",
              "    .dataframe thead th {\n",
              "        text-align: right;\n",
              "    }\n",
              "</style>\n",
              "<table border=\"1\" class=\"dataframe\">\n",
              "  <thead>\n",
              "    <tr style=\"text-align: right;\">\n",
              "      <th></th>\n",
              "      <th>id</th>\n",
              "      <th>age</th>\n",
              "      <th>sex</th>\n",
              "      <th>bmi</th>\n",
              "      <th>children</th>\n",
              "      <th>smoker</th>\n",
              "      <th>region</th>\n",
              "      <th>charges</th>\n",
              "    </tr>\n",
              "  </thead>\n",
              "  <tbody>\n",
              "    <tr>\n",
              "      <th>0</th>\n",
              "      <td>0</td>\n",
              "      <td>-0.957948</td>\n",
              "      <td>0.376932</td>\n",
              "      <td>0.041805</td>\n",
              "      <td>0.431138</td>\n",
              "      <td>0.070579</td>\n",
              "      <td>0.465686</td>\n",
              "      <td>0</td>\n",
              "    </tr>\n",
              "    <tr>\n",
              "      <th>1</th>\n",
              "      <td>1</td>\n",
              "      <td>0.148653</td>\n",
              "      <td>0.376932</td>\n",
              "      <td>-0.455296</td>\n",
              "      <td>0.197143</td>\n",
              "      <td>0.070579</td>\n",
              "      <td>0.245333</td>\n",
              "      <td>0</td>\n",
              "    </tr>\n",
              "    <tr>\n",
              "      <th>2</th>\n",
              "      <td>2</td>\n",
              "      <td>-0.810401</td>\n",
              "      <td>0.376932</td>\n",
              "      <td>0.051614</td>\n",
              "      <td>0.310345</td>\n",
              "      <td>1.182891</td>\n",
              "      <td>0.230769</td>\n",
              "      <td>1</td>\n",
              "    </tr>\n",
              "    <tr>\n",
              "      <th>3</th>\n",
              "      <td>3</td>\n",
              "      <td>-1.400589</td>\n",
              "      <td>0.227931</td>\n",
              "      <td>1.041364</td>\n",
              "      <td>0.386957</td>\n",
              "      <td>0.070579</td>\n",
              "      <td>0.465686</td>\n",
              "      <td>0</td>\n",
              "    </tr>\n",
              "    <tr>\n",
              "      <th>4</th>\n",
              "      <td>4</td>\n",
              "      <td>0.443747</td>\n",
              "      <td>0.227931</td>\n",
              "      <td>-0.482498</td>\n",
              "      <td>0.197143</td>\n",
              "      <td>0.070579</td>\n",
              "      <td>0.230769</td>\n",
              "      <td>0</td>\n",
              "    </tr>\n",
              "  </tbody>\n",
              "</table>\n",
              "</div>"
            ],
            "text/plain": [
              "   id       age       sex       bmi  children    smoker    region  charges\n",
              "0   0 -0.957948  0.376932  0.041805  0.431138  0.070579  0.465686        0\n",
              "1   1  0.148653  0.376932 -0.455296  0.197143  0.070579  0.245333        0\n",
              "2   2 -0.810401  0.376932  0.051614  0.310345  1.182891  0.230769        1\n",
              "3   3 -1.400589  0.227931  1.041364  0.386957  0.070579  0.465686        0\n",
              "4   4  0.443747  0.227931 -0.482498  0.197143  0.070579  0.230769        0"
            ]
          },
          "metadata": {
            "tags": []
          },
          "execution_count": 69
        }
      ]
    },
    {
      "cell_type": "code",
      "metadata": {
        "colab": {
          "base_uri": "https://localhost:8080/"
        },
        "id": "ni6rz6MJP4AW",
        "outputId": "e3779cdb-8377-4622-d052-e14270562f29"
      },
      "source": [
        "# simple random forest classifier\n",
        "X_train, X_test, y_train, y_test = train_test_split(train_engd.drop('charges',axis=1), train_engd['charges'], test_size=.1, random_state=1)\n",
        "for n in range(10,210,10):\n",
        "  classifier = RandomForestClassifier(n_estimators=n)\n",
        "  classifier.fit(X_train, y_train)\n",
        "  preds = classifier.predict(X_test)\n",
        "  print(f'{n}: {sklearn.metrics.accuracy_score(y_test, preds)}')"
      ],
      "execution_count": 70,
      "outputs": [
        {
          "output_type": "stream",
          "text": [
            "10: 0.85\n",
            "20: 0.8375\n",
            "30: 0.83125\n",
            "40: 0.84375\n",
            "50: 0.84375\n",
            "60: 0.84375\n",
            "70: 0.84375\n",
            "80: 0.84375\n",
            "90: 0.84375\n",
            "100: 0.83125\n",
            "110: 0.83125\n",
            "120: 0.85625\n",
            "130: 0.85625\n",
            "140: 0.85\n",
            "150: 0.85\n",
            "160: 0.85\n",
            "170: 0.84375\n",
            "180: 0.84375\n",
            "190: 0.85\n",
            "200: 0.8375\n"
          ],
          "name": "stdout"
        }
      ]
    },
    {
      "cell_type": "code",
      "metadata": {
        "colab": {
          "base_uri": "https://localhost:8080/"
        },
        "id": "zIlObBNpfBME",
        "outputId": "80b8d2b2-2d3f-4605-8dcc-2c52d16af895"
      },
      "source": [
        "classifier = RandomForestClassifier(n_estimators=100)\n",
        "classifier.fit(X_train, y_train)\n",
        "preds = classifier.predict(X_test)\n",
        "sklearn.metrics.accuracy_score(y_test, preds)"
      ],
      "execution_count": 71,
      "outputs": [
        {
          "output_type": "execute_result",
          "data": {
            "text/plain": [
              "0.83125"
            ]
          },
          "metadata": {
            "tags": []
          },
          "execution_count": 71
        }
      ]
    },
    {
      "cell_type": "code",
      "metadata": {
        "id": "u3PgPyydi5FF"
      },
      "source": [
        "data_test = feature_engineering(test, train)\n",
        "preds_test = classifier.predict(data_test)"
      ],
      "execution_count": 72,
      "outputs": []
    },
    {
      "cell_type": "code",
      "metadata": {
        "colab": {
          "base_uri": "https://localhost:8080/",
          "height": 16
        },
        "id": "G7ksJzISjv8v",
        "outputId": "dfe77dee-5b26-46cc-d197-84147030c6be"
      },
      "source": [
        "from datetime import datetime\n",
        "\n",
        "\n",
        "result = pd.concat([test[\"id\"], pd.Series(preds_test)], axis=1)\n",
        "\n",
        "filename = f'result_{datetime.today():%Y%m%d_%H%M}.csv'\n",
        "result.to_csv(filename, header=False,index=False)\n",
        "\n",
        "#from google.colab import files\n",
        "#files.download(filename)"
      ],
      "execution_count": 111,
      "outputs": [
        {
          "output_type": "display_data",
          "data": {
            "application/javascript": [
              "\n",
              "    async function download(id, filename, size) {\n",
              "      if (!google.colab.kernel.accessAllowed) {\n",
              "        return;\n",
              "      }\n",
              "      const div = document.createElement('div');\n",
              "      const label = document.createElement('label');\n",
              "      label.textContent = `Downloading \"${filename}\": `;\n",
              "      div.appendChild(label);\n",
              "      const progress = document.createElement('progress');\n",
              "      progress.max = size;\n",
              "      div.appendChild(progress);\n",
              "      document.body.appendChild(div);\n",
              "\n",
              "      const buffers = [];\n",
              "      let downloaded = 0;\n",
              "\n",
              "      const channel = await google.colab.kernel.comms.open(id);\n",
              "      // Send a message to notify the kernel that we're ready.\n",
              "      channel.send({})\n",
              "\n",
              "      for await (const message of channel.messages) {\n",
              "        // Send a message to notify the kernel that we're ready.\n",
              "        channel.send({})\n",
              "        if (message.buffers) {\n",
              "          for (const buffer of message.buffers) {\n",
              "            buffers.push(buffer);\n",
              "            downloaded += buffer.byteLength;\n",
              "            progress.value = downloaded;\n",
              "          }\n",
              "        }\n",
              "      }\n",
              "      const blob = new Blob(buffers, {type: 'application/binary'});\n",
              "      const a = document.createElement('a');\n",
              "      a.href = window.URL.createObjectURL(blob);\n",
              "      a.download = filename;\n",
              "      div.appendChild(a);\n",
              "      a.click();\n",
              "      div.remove();\n",
              "    }\n",
              "  "
            ],
            "text/plain": [
              "<IPython.core.display.Javascript object>"
            ]
          },
          "metadata": {
            "tags": []
          }
        },
        {
          "output_type": "display_data",
          "data": {
            "application/javascript": [
              "download(\"download_6fc016a2-3238-4975-a680-91d3a74c287a\", \"result_20210618_0748.csv\", 2570)"
            ],
            "text/plain": [
              "<IPython.core.display.Javascript object>"
            ]
          },
          "metadata": {
            "tags": []
          }
        }
      ]
    },
    {
      "cell_type": "code",
      "metadata": {
        "colab": {
          "base_uri": "https://localhost:8080/"
        },
        "id": "pzKp27m0u9H9",
        "outputId": "6ef9f54c-9186-450a-ae61-9b92bdfa880e"
      },
      "source": [
        "# submit\n",
        "#!signate submit --competition-id $COMP_ID {filename}"
      ],
      "execution_count": 125,
      "outputs": [
        {
          "output_type": "stream",
          "text": [
            "\u001b[32mYou have successfully submitted your predictions.We will send you the submission result to your email address.\u001b[0m\n"
          ],
          "name": "stdout"
        }
      ]
    }
  ]
}